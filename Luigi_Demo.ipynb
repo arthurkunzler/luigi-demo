{
  "cells": [
    {
      "cell_type": "markdown",
      "metadata": {},
      "source": [
        "No terminal, inicializar python venv e baixar dependências necessarias"
      ]
    },
    {
      "cell_type": "code",
      "execution_count": null,
      "metadata": {},
      "outputs": [],
      "source": [
        "python3 -m venv luigi-venv\n",
        "luigi-venv/bin/activate\n",
        "\n",
        "pip install wheel luigi beautifulsoup4 requests "
      ]
    },
    {
      "cell_type": "markdown",
      "metadata": {},
      "source": [
        "Tambem no terminal, inicializar o servidor do Luigi (escalonador central)"
      ]
    },
    {
      "cell_type": "code",
      "execution_count": null,
      "metadata": {},
      "outputs": [],
      "source": [
        "luigid --port 8082"
      ]
    },
    {
      "cell_type": "code",
      "execution_count": null,
      "metadata": {
        "id": "kkElXVn-3UlY"
      },
      "outputs": [],
      "source": [
        "import requests\n",
        "import luigi\n",
        "from bs4 import BeautifulSoup as bs\n",
        "from collections import Counter\n",
        "import pickle"
      ]
    },
    {
      "cell_type": "markdown",
      "metadata": {
        "id": "hactbMyy3gum"
      },
      "source": [
        "Definindo as Tasks com o Luigi"
      ]
    },
    {
      "cell_type": "code",
      "execution_count": null,
      "metadata": {
        "id": "5NwchehB3WdO"
      },
      "outputs": [],
      "source": [
        "class GetTopBooks(luigi.Task):\n",
        "    # Specify local file to store urls of top downloaded books\n",
        "    def output(self):\n",
        "        return luigi.LocalTarget('data/book_list.txt')\n",
        "\n",
        "    # Retreive urls of top downloaded books from website and storing in the local file\n",
        "    def run(self):\n",
        "        resp = requests.get('https://www.gutenberg.org/browse/scores/top')\n",
        "        soup = bs(resp.content, 'html.parser')\n",
        "\n",
        "        header = soup.find_all(\"h2\", string=\"Top 100 EBooks yesterday\")[0]\n",
        "        top_list = header.find_next_sibling(\"ol\")\n",
        "\n",
        "        with io.open(self.output().path, 'w', encoding='utf-8') as f:\n",
        "            for result in top_list.select('li>a'):\n",
        "                if '/ebooks/' in result['href']:\n",
        "                    f.write('http://www.gutenberg.org{link}.txt.utf-8\\n'.format(link=result['href']))"
      ]
    },
    {
      "cell_type": "code",
      "execution_count": null,
      "metadata": {
        "id": "-MG3UKFH3cR4"
      },
      "outputs": [],
      "source": [
        "class DownloadBooks(luigi.Task):\n",
        "\n",
        "    FileID = luigi.IntParameter(default=0)\n",
        "    replace_list = \"\"\".,\"';_[]:*-\"\"\"\n",
        "\n",
        "    # Get previously stored urls as input\n",
        "    def requires(self):\n",
        "        return GetTopBooks()\n",
        "\n",
        "    # Specify local file to store downloaded books into\n",
        "    def output(self):\n",
        "        output_dir = 'data/downloads'\n",
        "        # Ensure the directory exists\n",
        "        os.makedirs(output_dir, exist_ok=True)\n",
        "        return luigi.LocalTarget(f'{output_dir}/{self.FileID}.txt')\n",
        "\n",
        "    # Download a specific listed book, remove special characters, and change to lowercase\n",
        "    def run(self):\n",
        "        with self.input().open('r') as i:\n",
        "            url = i.read().splitlines()[self.FileID]\n",
        "\n",
        "            with io.open(self.output().path, 'w', encoding='utf-8') as f:\n",
        "                book = requests.get(url, timeout=60)\n",
        "                book_text = book.text\n",
        "\n",
        "                for char in self.replace_list:\n",
        "                    book_text = book_text.replace(char, ' ')\n",
        "\n",
        "                book_text = book_text.lower()\n",
        "                f.write(book_text)"
      ]
    },
    {
      "cell_type": "code",
      "execution_count": null,
      "metadata": {
        "id": "iB9IO5wQ3k4s"
      },
      "outputs": [],
      "source": [
        "class CountWords(luigi.Task):\n",
        "    FileID = luigi.IntParameter(default=0)\n",
        "    # Obtain a specific downloaded book as an input\n",
        "    def requires(self):\n",
        "        return DownloadBooks(FileID=self.FileID)\n",
        "\n",
        "    # Specify a local pickle file to store most frequent words with counts as binary\n",
        "    def output(self):\n",
        "        output_dir = 'data/counts'\n",
        "        # Ensure the directory exists\n",
        "        os.makedirs(output_dir, exist_ok=True)\n",
        "        file_path = f'{output_dir}/count_{self.FileID}.pickle'\n",
        "        return luigi.LocalTarget(file_path, format=luigi.format.Nop)\n",
        "\n",
        "    # Generate word frequency for the downloaded book and store as a binary\n",
        "    def run(self):\n",
        "        input_path = self.input().path\n",
        "        with io.open(input_path, 'r', encoding='utf-8') as i:\n",
        "            word_count = Counter(i.read().split())\n",
        "            with io.open(self.output().path, 'wb') as f:\n",
        "                pickle.dump(word_count, f)"
      ]
    },
    {
      "cell_type": "code",
      "execution_count": null,
      "metadata": {
        "id": "CWFOMvVO3vA8"
      },
      "outputs": [],
      "source": [
        "# Set global default parameters for number of books to download and number of most frequent words to report\n",
        "class GlobalParams(luigi.Config):\n",
        "    NumberBooks = luigi.IntParameter(default=10)\n",
        "    NumberTopWords = luigi.IntParameter(default=500)"
      ]
    },
    {
      "cell_type": "code",
      "execution_count": null,
      "metadata": {
        "id": "bDQAJf2Z3x74"
      },
      "outputs": [],
      "source": [
        "class TopWords(luigi.Task):\n",
        "    # Retreive list of top downloaded books, download a specified number of books\n",
        "    # Obtain count summary for all books as binary input array\n",
        "    def requires(self):\n",
        "        inputs = []\n",
        "        for i in range(GlobalParams().NumberBooks):\n",
        "            inputs.append(CountWords(FileID=i))\n",
        "        return inputs\n",
        "\n",
        "    # Specify local file to store count summaries into\n",
        "    def output(self):\n",
        "        return luigi.LocalTarget('data/summary.txt')\n",
        "\n",
        "    # Retreive summary counts for each book from stored binaries\n",
        "    # Merge into a combined summary and write into the destination file\n",
        "    def run(self):\n",
        "        total_count = Counter()\n",
        "\n",
        "        for input in self.input():\n",
        "            with input.open('rb') as i:\n",
        "                nextCounter = pickle.load(i)\n",
        "                total_count += nextCounter\n",
        "\n",
        "            with io.open(self.output().path, 'w', encoding='utf-8') as f:\n",
        "                for item in total_count.most_common(GlobalParams().NumberTopWords):\n",
        "                    f.write('{0: <15}{1}\\n'.format(*item))"
      ]
    },
    {
      "cell_type": "code",
      "execution_count": null,
      "metadata": {
        "colab": {
          "base_uri": "https://localhost:8080/",
          "height": 106
        },
        "id": "g4aNiDA44ZhR",
        "outputId": "a84b826e-e682-44b7-ce12-7955e2aab863"
      },
      "outputs": [
        {
          "ename": "SyntaxError",
          "evalue": "invalid syntax (ipython-input-13-363582966.py, line 1)",
          "output_type": "error",
          "traceback": [
            "\u001b[0;36m  File \u001b[0;32m\"/tmp/ipython-input-13-363582966.py\"\u001b[0;36m, line \u001b[0;32m1\u001b[0m\n\u001b[0;31m    luigi --module word-frequency TopWords --GlobalParams-NumberBooks 10 --GlobalParams-NumberTopWords 500\u001b[0m\n\u001b[0m                   ^\u001b[0m\n\u001b[0;31mSyntaxError\u001b[0m\u001b[0;31m:\u001b[0m invalid syntax\n"
          ]
        }
      ],
      "source": [
        "python -m luigi --module luigi-demo TopWords --GlobalParams-NumberBooks 10 --GlobalParams-NumberTopWords 500"
      ]
    }
  ],
  "metadata": {
    "colab": {
      "provenance": [],
      "toc_visible": true
    },
    "kernelspec": {
      "display_name": "Python 3",
      "name": "python3"
    },
    "language_info": {
      "name": "python"
    }
  },
  "nbformat": 4,
  "nbformat_minor": 0
}
